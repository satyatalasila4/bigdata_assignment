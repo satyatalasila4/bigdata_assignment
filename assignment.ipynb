{
 "cells": [
  {
   "cell_type": "markdown",
   "metadata": {},
   "source": [
    "IMPORTING NECESSARY LIBRARIES AND READING DATA"
   ]
  },
  {
   "cell_type": "code",
   "execution_count": 1,
   "metadata": {},
   "outputs": [],
   "source": [
    "import pandas as pd\n",
    "from cassandra.cluster import Cluster\n",
    "\n",
    "# Load CSV data into a Pandas DataFrame\n",
    "url = \"https://raw.githubusercontent.com/gchandra10/filestorage/refs/heads/main/sales_100.csv\"\n",
    "df = pd.read_csv(url)"
   ]
  },
  {
   "cell_type": "markdown",
   "metadata": {},
   "source": [
    "CONNECTING TO A CASSANDRA CLUSTER, CREATING A KEYSPACE AND CREATING TABLE"
   ]
  },
  {
   "cell_type": "code",
   "execution_count": 2,
   "metadata": {},
   "outputs": [
    {
     "data": {
      "text/plain": [
       "<cassandra.cluster.ResultSet at 0x1660e9e2020>"
      ]
     },
     "execution_count": 2,
     "metadata": {},
     "output_type": "execute_result"
    }
   ],
   "source": [
    "\n",
    "\n",
    "# Connect to Cassandra\n",
    "cluster = Cluster(['127.0.0.1'], port=9042) # Replace with your Cassandra node IP\n",
    "session = cluster.connect()\n",
    "\n",
    "# Create Keyspace\n",
    "session.execute(\"\"\"\n",
    "CREATE KEYSPACE IF NOT EXISTS sales_data \n",
    "WITH replication = {'class': 'SimpleStrategy', 'replication_factor': '1'};\n",
    "\"\"\")\n",
    "\n",
    "# Use the Keyspace\n",
    "session.set_keyspace('sales_data')\n",
    "\n",
    "# Drop the table if it exists\n",
    "session.execute(\n",
    "    \"\"\" \n",
    "    DROP TABLE IF EXISTS sales_data.bronze_sales;\n",
    "    \"\"\"\n",
    ")\n",
    "\n",
    "# Create the table\n",
    "session.execute(\n",
    "    \"\"\" \n",
    "    CREATE TABLE sales_data.bronze_sales (\n",
    "        sales_id int PRIMARY KEY,\n",
    "        Region text,\n",
    "        Country text,\n",
    "        Item_Type text,\n",
    "        Sales_Channel text,\n",
    "        Order_Priority text,\n",
    "        Order_Date text,\n",
    "        Order_ID int,\n",
    "        Ship_Date text,\n",
    "        UnitsSold int,\n",
    "        UnitPrice float,\n",
    "        UnitCost float,\n",
    "        TotalRevenue float,\n",
    "        TotalCost float,\n",
    "        TotalProfit float\n",
    "    );\n",
    "    \"\"\"\n",
    ")"
   ]
  },
  {
   "cell_type": "markdown",
   "metadata": {},
   "source": [
    "CREATING BRONZE TABLE AND INSERTING RAW DATA"
   ]
  },
  {
   "cell_type": "code",
   "execution_count": 3,
   "metadata": {},
   "outputs": [],
   "source": [
    "import uuid\n",
    "from datetime import datetime\n",
    "\n",
    "\n",
    "insert_rows = session.prepare(\n",
    "        \"\"\"\n",
    "        INSERT INTO sales_data.bronze_sales (\n",
    "                                                sales_id,\n",
    "                                                Region,\n",
    "                                                Country,\n",
    "                                                Item_Type,\n",
    "                                                Sales_Channel,\n",
    "                                                Order_Priority,\n",
    "                                                Order_Date,\n",
    "                                                Order_ID,\n",
    "                                                Ship_Date,\n",
    "                                                UnitsSold,\n",
    "                                                UnitPrice,\n",
    "                                                UnitCost,\n",
    "                                                TotalRevenue,\n",
    "                                                TotalCost,\n",
    "                                                TotalProfit\n",
    "                                         ) VALUES (\n",
    "                                         ?,?,?,?,?,?,?,?,?,?,?,?,?,?,?\n",
    "                                         )\n",
    "        \"\"\",\n",
    ")\n",
    "\n",
    "row_id = 1\n",
    "\n",
    "for index, row in df.iterrows():\n",
    "    session.execute(insert_rows,(row_id,row[\"Region\"],row[\"Country\"],row['Item Type'],row['Sales Channel'],row['Order Priority'],row['Order Date'],\\\n",
    "                                 row['Order ID'],row['Ship Date'],row['UnitsSold'],row['UnitPrice'],row['UnitCost'],row['TotalRevenue'],row['TotalCost'],row['TotalProfit']))\n",
    "    row_id+=1\n"
   ]
  },
  {
   "cell_type": "code",
   "execution_count": 4,
   "metadata": {},
   "outputs": [
    {
     "name": "stdout",
     "output_type": "stream",
     "text": [
      "   sales_id               country        item_type  order_date   order_id  \\\n",
      "0        23          Turkmenistan       Vegetables   4/13/2015  116205585   \n",
      "1        53  Antigua and Barbuda   Office Supplies   10/2/2011  286891067   \n",
      "2        91              Pakistan             Meat  12/28/2013  500371730   \n",
      "3        55              Thailand             Meat    2/4/2015  252889239   \n",
      "4        33                 India           Snacks  10/10/2012  440306556   \n",
      "\n",
      "  order_priority                             region sales_channel   ship_date  \\\n",
      "0              M                               Asia        Online    6/2/2015   \n",
      "1              C  Central America and the Caribbean       Offline   10/4/2011   \n",
      "2              M       Middle East and North Africa        Online   2/15/2014   \n",
      "3              C                               Asia        Online   2/19/2015   \n",
      "4              L                               Asia        Online  11/20/2012   \n",
      "\n",
      "      totalcost    totalprofit  totalrevenue    unitcost   unitprice  \\\n",
      "0  6.065031e+05  421077.093750  1.027580e+06   90.930000  154.059998   \n",
      "1  3.305673e+06  794996.250000  4.100669e+06  524.960022  651.210022   \n",
      "2  3.635594e+06  570226.812500  4.205822e+06  364.690002  421.890015   \n",
      "3  1.605001e+06  251737.203125  1.856738e+06  364.690002  421.890015   \n",
      "4  5.212066e+05  294943.875000  8.161504e+05   97.440002  152.580002   \n",
      "\n",
      "   unitssold  \n",
      "0       6670  \n",
      "1       6297  \n",
      "2       9969  \n",
      "3       4401  \n",
      "4       5349  \n"
     ]
    }
   ],
   "source": [
    "# Fetch all rows from the table\n",
    "query = \"SELECT * FROM sales_data.bronze_sales\"\n",
    "rows = session.execute(query)\n",
    "\n",
    "# Convert the result to a Pandas DataFrame\n",
    "data = []\n",
    "for row in rows:\n",
    "    data.append(row._asdict())  # Convert the row object to a dictionary\n",
    "\n",
    "df_result = pd.DataFrame(data[:5])\n",
    "\n",
    "# Display the DataFrame\n",
    "print(df_result)"
   ]
  },
  {
   "cell_type": "markdown",
   "metadata": {},
   "source": [
    "CREATING SILVER TABLE \n"
   ]
  },
  {
   "cell_type": "code",
   "execution_count": 5,
   "metadata": {},
   "outputs": [
    {
     "data": {
      "text/plain": [
       "<cassandra.cluster.ResultSet at 0x1660e9d9150>"
      ]
     },
     "execution_count": 5,
     "metadata": {},
     "output_type": "execute_result"
    }
   ],
   "source": [
    "# Drop the table if it exists\n",
    "session.execute(\n",
    "    \"\"\" \n",
    "    DROP TABLE IF EXISTS sales_data.silver_sales;\n",
    "    \"\"\"\n",
    ")\n",
    "\n",
    "# Create the table\n",
    "session.execute(\n",
    "    \"\"\" \n",
    "    CREATE TABLE sales_data.silver_sales (\n",
    "        sales_id int PRIMARY KEY,\n",
    "        Region text,\n",
    "        Country text,\n",
    "        Item_Type text,\n",
    "        Sales_Channel text,\n",
    "        Order_Priority text,\n",
    "        Order_Date date,\n",
    "        Order_ID int,\n",
    "        Ship_Date date,\n",
    "        UnitsSold int,\n",
    "        UnitPrice float,\n",
    "        UnitCost float,\n",
    "        TotalRevenue float,\n",
    "        TotalCost float,\n",
    "        TotalProfit float\n",
    "    );\n",
    "    \"\"\"\n",
    ")"
   ]
  },
  {
   "cell_type": "markdown",
   "metadata": {},
   "source": [
    "HANDLING DATA/ STANDARDIZING DATE FORMAT"
   ]
  },
  {
   "cell_type": "code",
   "execution_count": 6,
   "metadata": {},
   "outputs": [],
   "source": [
    "df['Order Date'] = pd.to_datetime(df['Order Date'], format='%m/%d/%Y').dt.strftime('%Y-%m-%d')\n",
    "df['Ship Date'] = pd.to_datetime(df['Ship Date'], format='%m/%d/%Y').dt.strftime('%Y-%m-%d')\n"
   ]
  },
  {
   "cell_type": "markdown",
   "metadata": {},
   "source": [
    "INSERTING DATA INTO SILVER TABLE"
   ]
  },
  {
   "cell_type": "code",
   "execution_count": 7,
   "metadata": {},
   "outputs": [],
   "source": [
    "insert_rows = session.prepare(\n",
    "        \"\"\"\n",
    "        INSERT INTO sales_data.silver_sales (\n",
    "                                                sales_id,\n",
    "                                                Region,\n",
    "                                                Country,\n",
    "                                                Item_Type,\n",
    "                                                Sales_Channel,\n",
    "                                                Order_Priority,\n",
    "                                                Order_Date,\n",
    "                                                Order_ID,\n",
    "                                                Ship_Date,\n",
    "                                                UnitsSold,\n",
    "                                                UnitPrice,\n",
    "                                                UnitCost,\n",
    "                                                TotalRevenue,\n",
    "                                                TotalCost,\n",
    "                                                TotalProfit\n",
    "                                         ) VALUES (\n",
    "                                         ?,?,?,?,?,?,?,?,?,?,?,?,?,?,?\n",
    "                                         )\n",
    "        \"\"\",\n",
    ")\n",
    "\n",
    "row_id = 1\n",
    "\n",
    "for index, row in df.iterrows():\n",
    "    session.execute(insert_rows,(row_id,row[\"Region\"],row[\"Country\"],row['Item Type'],row['Sales Channel'],row['Order Priority'],row['Order Date'],\\\n",
    "                                 row['Order ID'],row['Ship Date'],row['UnitsSold'],row['UnitPrice'],row['UnitCost'],row['TotalRevenue'],row['TotalCost'],row['TotalProfit']))\n",
    "    row_id+=1"
   ]
  },
  {
   "cell_type": "code",
   "execution_count": 8,
   "metadata": {},
   "outputs": [
    {
     "name": "stdout",
     "output_type": "stream",
     "text": [
      "   sales_id               country        item_type  order_date   order_id  \\\n",
      "0        23          Turkmenistan       Vegetables  2015-04-13  116205585   \n",
      "1        53  Antigua and Barbuda   Office Supplies  2011-10-02  286891067   \n",
      "2        91              Pakistan             Meat  2013-12-28  500371730   \n",
      "3        55              Thailand             Meat  2015-02-04  252889239   \n",
      "4        33                 India           Snacks  2012-10-10  440306556   \n",
      "\n",
      "  order_priority                             region sales_channel   ship_date  \\\n",
      "0              M                               Asia        Online  2015-06-02   \n",
      "1              C  Central America and the Caribbean       Offline  2011-10-04   \n",
      "2              M       Middle East and North Africa        Online  2014-02-15   \n",
      "3              C                               Asia        Online  2015-02-19   \n",
      "4              L                               Asia        Online  2012-11-20   \n",
      "\n",
      "      totalcost    totalprofit  totalrevenue    unitcost   unitprice  \\\n",
      "0  6.065031e+05  421077.093750  1.027580e+06   90.930000  154.059998   \n",
      "1  3.305673e+06  794996.250000  4.100669e+06  524.960022  651.210022   \n",
      "2  3.635594e+06  570226.812500  4.205822e+06  364.690002  421.890015   \n",
      "3  1.605001e+06  251737.203125  1.856738e+06  364.690002  421.890015   \n",
      "4  5.212066e+05  294943.875000  8.161504e+05   97.440002  152.580002   \n",
      "\n",
      "   unitssold  \n",
      "0       6670  \n",
      "1       6297  \n",
      "2       9969  \n",
      "3       4401  \n",
      "4       5349  \n"
     ]
    }
   ],
   "source": [
    "# Fetch all rows from the table\n",
    "query = \"SELECT * FROM sales_data.silver_sales\"\n",
    "rows = session.execute(query)\n",
    "\n",
    "# Convert the result to a Pandas DataFrame\n",
    "data = []\n",
    "for row in rows:\n",
    "    data.append(row._asdict())  # Convert the row object to a dictionary\n",
    "\n",
    "df_result = pd.DataFrame(data[:5])\n",
    "\n",
    "# Display the DataFrame\n",
    "print(df_result)"
   ]
  },
  {
   "cell_type": "code",
   "execution_count": 9,
   "metadata": {},
   "outputs": [],
   "source": [
    "import pandas as pd\n",
    "\n",
    "# Ensure 'Ship Date' and 'Order Date' are in datetime format\n",
    "df['Ship Date'] = pd.to_datetime(df['Ship Date'], errors='coerce')\n",
    "df['Order Date'] = pd.to_datetime(df['Order Date'], errors='coerce')\n",
    "\n",
    "# Calculate Shipping_Duration in days\n",
    "df['Shipping_Duration'] = (df['Ship Date'] - df['Order Date']).dt.days\n",
    "\n",
    "# Calculate Profit_Margin\n",
    "df['Profit_Margin'] = (df['TotalProfit'] / df['TotalRevenue']) * 100\n",
    "\n",
    "# Group and aggregate the data\n",
    "gold_table = df.groupby(['Region', 'Country', 'Item Type', 'Order Date'], as_index=False).agg(\n",
    "    Total_UnitsSold=('UnitsSold', 'sum'),\n",
    "    Total_Revenue=('TotalRevenue', 'sum'),\n",
    "    Total_Profit=('TotalProfit', 'sum'),\n",
    "    Average_Profit_Margin=('Profit_Margin', 'mean'),\n",
    "    Average_Shipping_Duration=('Shipping_Duration', 'mean')\n",
    ")\n"
   ]
  },
  {
   "cell_type": "code",
   "execution_count": 10,
   "metadata": {},
   "outputs": [],
   "source": [
    "# Calculate Total Revenue, Cost, and Profit by Region and Country\n",
    "gold_table_1 = df.groupby(['Region', 'Country']).agg({\n",
    "    'TotalRevenue': 'sum',\n",
    "    'TotalCost': 'sum',\n",
    "    'TotalProfit': 'sum'\n",
    "}).reset_index()"
   ]
  },
  {
   "cell_type": "code",
   "execution_count": 11,
   "metadata": {},
   "outputs": [
    {
     "name": "stdout",
     "output_type": "stream",
     "text": [
      "          Item Type  TotalRevenue    TotalCost  TotalProfit\n",
      "0         Baby Food    5200564.16   3247704.24   1952859.92\n",
      "1         Beverages    2145024.70   1437098.74    707925.96\n",
      "2            Cereal    9416123.20   5360827.36   4055295.84\n",
      "3           Clothes    4387373.44   1438904.32   2948469.12\n",
      "4         Cosmetics   28727100.40  17302624.31  11424476.09\n",
      "5            Fruits     615033.60    456166.40    158867.20\n",
      "6         Household   38519082.80  28966405.60   9552677.20\n",
      "7              Meat   21278865.93  18393869.53   2884996.40\n",
      "8   Office Supplies   27880904.94  22475637.44   5405267.50\n",
      "9     Personal Care    3191147.85   2212680.15    978467.70\n",
      "10           Snacks    2193642.66   1400894.88    792747.78\n",
      "11       Vegetables    1135114.08    669972.24    465141.84\n"
     ]
    }
   ],
   "source": [
    "# Calculate Sales Performance by Item Type\n",
    "gold_table_2 = df.groupby('Item Type').agg({\n",
    "    'TotalRevenue': 'sum',\n",
    "    'TotalCost': 'sum',\n",
    "    'TotalProfit': 'sum'\n",
    "}).reset_index()\n",
    "\n",
    "print(gold_table_2)"
   ]
  },
  {
   "cell_type": "code",
   "execution_count": 12,
   "metadata": {},
   "outputs": [
    {
     "name": "stdout",
     "output_type": "stream",
     "text": [
      "  Order Priority Sales Channel  UnitsSold   UnitPrice\n",
      "0              C       Offline      38003  457.407500\n",
      "1              C        Online      54168  271.538182\n",
      "2              H       Offline      50026  312.753000\n",
      "3              H        Online      71680  261.349167\n",
      "4              L       Offline      59931  154.047000\n",
      "5              L        Online      59696  230.461429\n",
      "6              M       Offline      38530  216.261667\n",
      "7              M        Online     122776  298.861364\n"
     ]
    }
   ],
   "source": [
    "# Calculate Units Sold and Average Unit Price by Order Priority and Sales Channel\n",
    "gold_table_3 = df.groupby(['Order Priority', 'Sales Channel']).agg({\n",
    "    'UnitsSold': 'sum',\n",
    "    'UnitPrice': 'mean'\n",
    "}).reset_index()\n",
    "\n",
    "print(gold_table_3)"
   ]
  },
  {
   "cell_type": "code",
   "execution_count": 13,
   "metadata": {},
   "outputs": [
    {
     "data": {
      "text/plain": [
       "<cassandra.cluster.ResultSet at 0x1660eaa4730>"
      ]
     },
     "execution_count": 13,
     "metadata": {},
     "output_type": "execute_result"
    }
   ],
   "source": [
    "# Drop the table if it exists\n",
    "session.execute(\n",
    "    \"\"\" \n",
    "    DROP TABLE IF EXISTS sales_data.gold_sales_rev_country;\n",
    "    \"\"\"\n",
    ")\n",
    "\n",
    "session.execute(\n",
    "    \"\"\" \n",
    "    CREATE TABLE sales_data.gold_sales_rev_country (\n",
    "    Rev_ID int primary key,\n",
    "    Region TEXT,\n",
    "    Country TEXT,\n",
    "    TotalRevenue FLOAT,\n",
    "    TotalCost FLOAT,\n",
    "    TotalProfit FLOAT\n",
    ");\n",
    "\n",
    "    \"\"\"\n",
    ")"
   ]
  },
  {
   "cell_type": "code",
   "execution_count": 14,
   "metadata": {},
   "outputs": [],
   "source": [
    "insert_query = session.prepare(\"\"\"\n",
    "INSERT INTO sales_data.gold_sales_rev_country (\n",
    "    Rev_ID,\n",
    "    Region,\n",
    "    Country,\n",
    "    TotalRevenue,\n",
    "    TotalCost,\n",
    "    TotalProfit\n",
    ") VALUES (?, ?, ?, ?, ?, ?);\n",
    "\"\"\"\n",
    ")\n",
    "count=1\n",
    "# Insert data from a Pandas DataFrame\n",
    "for _, row in gold_table_1.iterrows():\n",
    "    session.execute(insert_query, (\n",
    "        count,\n",
    "        row['Region'],\n",
    "        row['Country'], \n",
    "        row['TotalRevenue'],\n",
    "        row['TotalCost'],\n",
    "        row['TotalProfit']\n",
    "    ))\n",
    "    count+=1"
   ]
  },
  {
   "cell_type": "code",
   "execution_count": 15,
   "metadata": {},
   "outputs": [
    {
     "name": "stdout",
     "output_type": "stream",
     "text": [
      "Row(rev_id=23, country='Antigua and Barbuda ', region='Central America and the Caribbean', totalcost=3305673.0, totalprofit=794996.25, totalrevenue=4100669.25)\n",
      "Row(rev_id=53, country='Kuwait', region='Middle East and North Africa', totalcost=736723.625, totalprofit=242960.1875, totalrevenue=979683.8125)\n",
      "Row(rev_id=55, country='Morocco', region='Middle East and North Africa', totalcost=165258.234375, totalprofit=338631.84375, totalrevenue=503890.09375)\n",
      "Row(rev_id=33, country='Czech Republic', region='Europe', totalcost=2411312.75, totalprofit=1592127.625, totalrevenue=4003440.5)\n",
      "Row(rev_id=5, country='Japan', region='Asia', totalcost=4217818.0, totalprofit=1390971.875, totalrevenue=5608790.0)\n"
     ]
    }
   ],
   "source": [
    "# Execute the query\n",
    "rows = session.execute(\n",
    "    \"\"\"\n",
    "    SELECT * FROM sales_data.gold_sales_rev_country limit 5;\n",
    "    \"\"\"\n",
    ")\n",
    "\n",
    "# Print the rows\n",
    "for row in rows:\n",
    "    print(row)"
   ]
  },
  {
   "cell_type": "code",
   "execution_count": 16,
   "metadata": {},
   "outputs": [
    {
     "data": {
      "text/plain": [
       "<cassandra.cluster.ResultSet at 0x1660e9850f0>"
      ]
     },
     "execution_count": 16,
     "metadata": {},
     "output_type": "execute_result"
    }
   ],
   "source": [
    "# Drop the table if it exists\n",
    "session.execute(\n",
    "    \"\"\" \n",
    "    DROP TABLE IF EXISTS sales_data.gold_sales_performance_by_item_type;\n",
    "    \"\"\"\n",
    ")\n",
    "\n",
    "\n",
    "session.execute(\n",
    "    \"\"\" \n",
    "    CREATE TABLE sales_data.gold_sales_performance_by_item_type (\n",
    "    Sales_ID int primary key,\n",
    "    Item_type TEXT,\n",
    "    TotalRevenue FLOAT,\n",
    "    TotalCost FLOAT,\n",
    "    TotalProfit FLOAT\n",
    ");\n",
    "\n",
    "    \"\"\"\n",
    ")"
   ]
  },
  {
   "cell_type": "code",
   "execution_count": 17,
   "metadata": {},
   "outputs": [],
   "source": [
    "insert_query = session.prepare(\"\"\"\n",
    "INSERT INTO sales_data.gold_sales_performance_by_item_type (\n",
    "    Sales_ID,\n",
    "    Item_type,\n",
    "    TotalRevenue,\n",
    "    TotalCost,\n",
    "    TotalProfit\n",
    ") VALUES (?, ?, ?, ?, ?);\n",
    "\"\"\"\n",
    ")\n",
    "count=1\n",
    "# Insert data from a Pandas DataFrame\n",
    "for _, row in gold_table_2.iterrows():\n",
    "    session.execute(insert_query, (\n",
    "        count,\n",
    "        row['Item Type'], \n",
    "        row['TotalRevenue'],\n",
    "        row['TotalCost'],\n",
    "        row['TotalProfit']\n",
    "    ))\n",
    "    count+=1"
   ]
  },
  {
   "cell_type": "code",
   "execution_count": 18,
   "metadata": {},
   "outputs": [
    {
     "name": "stdout",
     "output_type": "stream",
     "text": [
      "Row(sales_id=5, item_type='Cosmetics', totalcost=17302624.0, totalprofit=11424476.0, totalrevenue=28727100.0)\n",
      "Row(sales_id=10, item_type='Personal Care', totalcost=2212680.25, totalprofit=978467.6875, totalrevenue=3191147.75)\n",
      "Row(sales_id=11, item_type='Snacks', totalcost=1400894.875, totalprofit=792747.75, totalrevenue=2193642.75)\n",
      "Row(sales_id=1, item_type='Baby Food', totalcost=3247704.25, totalprofit=1952859.875, totalrevenue=5200564.0)\n",
      "Row(sales_id=8, item_type='Meat', totalcost=18393870.0, totalprofit=2884996.5, totalrevenue=21278866.0)\n"
     ]
    }
   ],
   "source": [
    "rows=session.execute(\n",
    "    \"\"\" \n",
    "    SELECT * FROM sales_data.gold_sales_performance_by_item_type LIMIT 5;\n",
    "    \"\"\"\n",
    ")\n",
    "\n",
    "\n",
    "# Print the rows\n",
    "for row in rows:\n",
    "    print(row)"
   ]
  },
  {
   "cell_type": "code",
   "execution_count": 19,
   "metadata": {},
   "outputs": [
    {
     "data": {
      "text/plain": [
       "<cassandra.cluster.ResultSet at 0x1660e988dc0>"
      ]
     },
     "execution_count": 19,
     "metadata": {},
     "output_type": "execute_result"
    }
   ],
   "source": [
    "# Drop the table if it exists\n",
    "session.execute(\n",
    "    \"\"\" \n",
    "    DROP TABLE IF EXISTS sales_data.gold_order_priority_by_sales;\n",
    "    \"\"\"\n",
    ")\n",
    "\n",
    "\n",
    "session.execute(\n",
    "    \"\"\" \n",
    "    CREATE TABLE sales_data.gold_order_priority_by_sales (\n",
    "    Order_priority_ID int primary key,\n",
    "    Order_priority TEXT,\n",
    "    Sales_channel TEXT,\n",
    "    UnitPrice FLOAT,\n",
    "    UnitsSold INT\n",
    ");\n",
    "\n",
    "    \"\"\"\n",
    ")"
   ]
  },
  {
   "cell_type": "code",
   "execution_count": 20,
   "metadata": {},
   "outputs": [],
   "source": [
    "insert_query = session.prepare(\"\"\"\n",
    "INSERT INTO sales_data.gold_order_priority_by_sales (\n",
    "    Order_priority_ID,\n",
    "    Order_priority,\n",
    "    Sales_channel,\n",
    "    UnitPrice,\n",
    "    UnitsSold\n",
    ") VALUES (?, ?, ?, ?,?);\n",
    "\"\"\"\n",
    ")\n",
    "count=1\n",
    "# Insert data from a Pandas DataFrame\n",
    "for _, row in gold_table_3.iterrows():\n",
    "    session.execute(insert_query, (\n",
    "        count,\n",
    "        row['Order Priority'], \n",
    "        row['Sales Channel'],\n",
    "        row['UnitPrice'],\n",
    "        row['UnitsSold']\n",
    "    ))\n",
    "    count+=1"
   ]
  },
  {
   "cell_type": "code",
   "execution_count": null,
   "metadata": {},
   "outputs": [
    {
     "name": "stdout",
     "output_type": "stream",
     "text": [
      "Row(order_priority_id=5, order_priority='L', sales_channel='Offline', unitprice=154.0469970703125, unitssold=59931)\n",
      "Row(order_priority_id=1, order_priority='C', sales_channel='Offline', unitprice=457.4075012207031, unitssold=38003)\n",
      "Row(order_priority_id=8, order_priority='M', sales_channel='Online', unitprice=298.8613586425781, unitssold=122776)\n",
      "Row(order_priority_id=2, order_priority='C', sales_channel='Online', unitprice=271.5381774902344, unitssold=54168)\n",
      "Row(order_priority_id=4, order_priority='H', sales_channel='Online', unitprice=261.3491516113281, unitssold=71680)\n"
     ]
    }
   ],
   "source": [
    "rows=session.execute(\n",
    "    \"\"\" \n",
    "    SELECT * FROM sales_data.gold_order_priority_by_sales LIMIT 5;\n",
    "    \"\"\"\n",
    ")\n",
    "\n",
    "\n",
    "# Print the rows\n",
    "for row in rows:\n",
    "    print(row)"
   ]
  }
 ],
 "metadata": {
  "kernelspec": {
   "display_name": "myenv",
   "language": "python",
   "name": "python3"
  },
  "language_info": {
   "codemirror_mode": {
    "name": "ipython",
    "version": 3
   },
   "file_extension": ".py",
   "mimetype": "text/x-python",
   "name": "python",
   "nbconvert_exporter": "python",
   "pygments_lexer": "ipython3",
   "version": "3.10.0"
  }
 },
 "nbformat": 4,
 "nbformat_minor": 2
}
